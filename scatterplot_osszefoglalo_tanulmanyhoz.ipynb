!pip install pandas
!pip install seaborn

import pandas as pd
import seaborn as sns
import matplotlib.pyplot as plt
import numpy as np

data_y = [54, 62, 58, 59, 53, 59, 57, 59, 61, 56, 59, 55, 49, 59, 62, 66, 65, 67, 67, 65, 63, 63, 65, 67, 61, 66, 47, 46, 50, 51, 51, 51, 53, 48, 51, 56, 51, 53, 52, 57, 52, 55, 46, 47, 47, 53, 55, 64, 59, 59, 62, 65, 62, 60, 63, 58, 64, 62, 61, 56, 65, 65, 63, 64, 65, 63, 59, 62, 65, 65, 65, 65, 61, 62, 61, 66, 65, 67, 52, 36, 41, 39, 44, 42, 45, 40, 46, 48, 46, 43, 48, 40, 43, 42, 52, 41, 51, 43, 48, 51, 46, 47, 47, 46, 49, 44, 46, 42, 43, 47, 44, 44, 50, 48, 42, 46, 41, 41, 47, 49, 45, 43, 46, 48, 44, 49, 43, 47, 45, 48, 45, 52, 49, 46, 49, 44, 46, 53, 55, 55, 59, 59, 58, 58, 64, 57, 61, 62, 59, 66, 64, 65, 63, 67, 65, 41, 49, 51, 50, 58, 55, 54, 57, 58, 55, 52, 56, 57, 64, 59, 60, 61, 55, 58, 61, 58, 55, 53, 56, 57, 55, 55, 54, 59, 53, 49, 55, 57, 61, 60, 62, 61, 65, 66, 67, 67, 57, 60, 60, 62, 58, 57, 59, 62, 59, 59, 58, 60, 63, 58, 60, 61, 67, 50, 63, 62, 64, 60, 61, 64, 59, 61, 61, 56, 67, 69, 55, 63, 59, 57, 61, 59, 61, 60, 62, 63, 57, 66, 61, 64, 66, 65, 67, 64, 66, 65, 67, 69, 67, 69, 66, 63, 69, 63, 69, 69, 68, 70, 68, 44, 41, 36, 36, 43, 41, 37, 38, 38, 40, 38, 44, 45, 36, 40, 42, 45, 44, 52, 54, 44, 43, 34, 53, 63, 68, 64, 70, 68, 70, 70, 70, 42, 48, 43, 44, 44, 44, 44, 52, 52, 59, 59, 53, 53, 53, 51, 51, 57, 57, 54, 51, 52, 50, 59]
data_x = [0, 1, 7, 14, 35, 36, 37, 64, 84, 113, 114, 143, 0, 18, 22, 23, 24, 28, 31, 33, 36, 45, 47, 50, 51, 52, 0, 1, 2, 4, 7, 11, 11, 12, 12, 13, 13, 15, 22, 23, 26, 26, 0, 0, 0, 3, 8, 11, 16, 22, 23, 27, 28, 29, 30, 31, 32, 33, 34, 35, 37, 38, 40, 50, 52, 61, 63, 67, 70, 73, 76, 89, 95, 132, 139, 143, 152, 159, 0, 23, 35, 0, 0, 0, 1, 2, 2, 2, 3, 3, 5, 5, 7, 7, 8, 8, 8, 8, 8, 10, 10, 14, 14, 14, 15, 15, 17, 17, 30, 32, 32, 34, 34, 62, 62, 79, 79, 80, 81, 81, 82, 83, 84, 84, 86, 87, 89, 91, 96, 97, 101, 102, 105, 112, 113, 116, 121, 0, 5, 11, 14, 25, 38, 49, 58, 66, 68, 72, 75, 79, 82, 88, 89, 93, 103, 0, 4, 9, 12, 15, 18, 22, 25, 29, 32, 36, 39, 44, 47, 50, 53, 58, 61, 64, 67, 71, 74, 78, 81, 85, 89, 94, 98, 100, 103, 0, 2, 6, 6, 6, 7, 7, 7, 7, 7, 7, 0, 5, 14, 14, 22, 24, 29, 29, 37, 37, 0, 3, 5, 6, 7, 10, 13, 0, 3, 7, 13, 14, 20, 21, 27, 28, 34, 35, 41, 42, 0, 5, 29, 0, 1, 2, 5, 6, 6, 12, 31, 32, 32, 33, 34, 34, 35, 66, 68, 80, 80, 81, 97, 97, 104, 109, 109, 119, 122, 130, 139, 144, 148, 0, 8, 8, 15, 16, 22, 22, 29, 29, 36, 36, 43, 43, 0, 18, 18, 0, 10, 61, 61, 77, 93, 104, 0, 8, 8, 22, 22, 31, 31, 38, 38, 0, 2, 4, 7, 8, 8, 9, 9, 10, 12, 14, 15, 15, 16, 16, 18, 18, 24, 24, 28, 31, 33, 43]
df = pd.DataFrame({'Eltelt napok': data_x, 'Elért pontok': data_y})

degree = 1
coefficients = np.polyfit(df['Eltelt napok'], df['Elért pontok'], degree)
polyfit = np.poly1d(coefficients)

fit_x = np.linspace(min(df['Eltelt napok']), max(df['Eltelt napok']), 100)
fit_x_extended = np.linspace(min(df['Eltelt napok']), 180, 100)

plt.figure(figsize=(10, 6))
plt.gca().set_aspect(4.5)

sns.scatterplot(x='Eltelt napok', y='Elért pontok', data=df, color='grey', marker='o', label='Data')

#art deco scatterplot:) elozot ki kell #-tegelni, kovetkezot pedig be.
#plt.plot(df['Eltelt napok'], df['Elért pontok'], color='red', marker='', linestyle='-', label='Data (Line)')

plt.plot(fit_x, polyfit(fit_x), color='black', label=f'Polyfit (Degree {degree})')
plt.plot(fit_x_extended, polyfit(fit_x_extended), linestyle='dashed', color='black', label='Polyfit Extension')

plt.xlim(-5, 190)

plt.title('Long term effect of our products \non colour vision performance \nin relation to the training conducted', fontsize=14)
plt.xlabel('The dates of the training conducted (number of days elapsed)', fontsize=12)
plt.ylabel('The points achieved in the test', fontsize=12)
plt.legend(fontsize=8, bbox_to_anchor=(1, 0.1), loc='center right')
plt.show()
